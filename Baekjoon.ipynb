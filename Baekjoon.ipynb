{
  "nbformat": 4,
  "nbformat_minor": 0,
  "metadata": {
    "colab": {
      "name": "Baekjoon.ipynb",
      "provenance": [],
      "toc_visible": true,
      "authorship_tag": "ABX9TyOCBc9CNpuTK+AAw8iv8d0Q",
      "include_colab_link": true
    },
    "kernelspec": {
      "name": "python3",
      "display_name": "Python 3"
    },
    "language_info": {
      "name": "python"
    }
  },
  "cells": [
    {
      "cell_type": "markdown",
      "metadata": {
        "id": "view-in-github",
        "colab_type": "text"
      },
      "source": [
        "<a href=\"https://colab.research.google.com/github/yooung513/CodingTest/blob/Baekjoon/Baekjoon.ipynb\" target=\"_parent\"><img src=\"https://colab.research.google.com/assets/colab-badge.svg\" alt=\"Open In Colab\"/></a>"
      ]
    },
    {
      "cell_type": "markdown",
      "source": [
        "# 01"
      ],
      "metadata": {
        "id": "ogLxInpHwEsa"
      }
    },
    {
      "cell_type": "code",
      "execution_count": null,
      "metadata": {
        "colab": {
          "base_uri": "https://localhost:8080/"
        },
        "id": "1_a3p2LcPxp1",
        "outputId": "0a40b78f-6480-416d-ba5e-33630c37e845"
      },
      "outputs": [
        {
          "output_type": "stream",
          "name": "stdout",
          "text": [
            "Hello World!\n"
          ]
        }
      ],
      "source": [
        "# 1-1\n",
        "\n",
        "print('Hello World!')"
      ]
    },
    {
      "cell_type": "code",
      "source": [
        "# 1-2\n",
        "\n",
        "def pr(num) :\n",
        "  for i in range(num) :\n",
        "    print('강한친구 대한육군')\n",
        "\n",
        "pr(2)\n",
        "\n",
        "\n",
        "print('강한친구 대한육군')\n",
        "print('강한친구 대한육군')"
      ],
      "metadata": {
        "colab": {
          "base_uri": "https://localhost:8080/"
        },
        "id": "KOFS-AEwQ7gD",
        "outputId": "6488ce30-5c4e-4902-d7b7-ea9c69f38838"
      },
      "execution_count": null,
      "outputs": [
        {
          "output_type": "stream",
          "name": "stdout",
          "text": [
            "강한친구 대한육군\n",
            "강한친구 대한육군\n",
            "강한친구 대한육군\n",
            "강한친구 대한육군\n"
          ]
        }
      ]
    },
    {
      "cell_type": "code",
      "source": [
        "# 1-3\n",
        "\n",
        "a, b = map(int, input().split())\n",
        "\n",
        "print(a+b)"
      ],
      "metadata": {
        "colab": {
          "base_uri": "https://localhost:8080/"
        },
        "id": "CRL1tQOGRzcK",
        "outputId": "5b2e3b25-efb7-4c1b-97b9-105598343eb1"
      },
      "execution_count": null,
      "outputs": [
        {
          "output_type": "stream",
          "name": "stdout",
          "text": [
            "3 5\n",
            "8\n"
          ]
        }
      ]
    },
    {
      "cell_type": "code",
      "source": [
        "# 1-4\n",
        "\n",
        "a, b = map(int, input().split())\n",
        "\n",
        "print(a-b)"
      ],
      "metadata": {
        "colab": {
          "base_uri": "https://localhost:8080/"
        },
        "id": "4Tm8lMDUSRVb",
        "outputId": "2e82f4c6-25cd-45fe-f9d6-6da96b4e8ecb"
      },
      "execution_count": null,
      "outputs": [
        {
          "output_type": "stream",
          "name": "stdout",
          "text": [
            "3 2\n",
            "1\n"
          ]
        }
      ]
    },
    {
      "cell_type": "code",
      "source": [
        "# 1-5\n",
        "\n",
        "a, b = map(int, input().split())\n",
        "\n",
        "print(a*b)"
      ],
      "metadata": {
        "colab": {
          "base_uri": "https://localhost:8080/"
        },
        "id": "9gjrZ7WJSpab",
        "outputId": "6099a173-f5b5-43eb-8267-e257703863f4"
      },
      "execution_count": null,
      "outputs": [
        {
          "output_type": "stream",
          "name": "stdout",
          "text": [
            "1 2\n",
            "2\n"
          ]
        }
      ]
    },
    {
      "cell_type": "code",
      "source": [
        "# 1-6\n",
        "\n",
        "a, b = map(int, input().split())\n",
        "\n",
        "print(a/b)"
      ],
      "metadata": {
        "colab": {
          "base_uri": "https://localhost:8080/"
        },
        "id": "J_xYjQYvTHWp",
        "outputId": "6bc4ffe3-e7ce-4681-9a21-d09d2f231872"
      },
      "execution_count": null,
      "outputs": [
        {
          "output_type": "stream",
          "name": "stdout",
          "text": [
            "4 5\n",
            "0.8\n"
          ]
        }
      ]
    },
    {
      "cell_type": "code",
      "source": [
        "# 1-7\n",
        "# *** 몫만 구하는 경우는 연산자 // 사용\n",
        "\n",
        "a, b = map(int, input().split())\n",
        "\n",
        "print(a+b)\n",
        "print(a-b)\n",
        "print(a*b)\n",
        "print(a//b)\n",
        "print(a%b)"
      ],
      "metadata": {
        "colab": {
          "base_uri": "https://localhost:8080/"
        },
        "id": "BDPxAj06TWRv",
        "outputId": "0d8d68d9-5390-4717-9a86-b95cf0b771e8"
      },
      "execution_count": null,
      "outputs": [
        {
          "output_type": "stream",
          "name": "stdout",
          "text": [
            "7 3\n",
            "10\n",
            "4\n",
            "21\n",
            "2\n",
            "1\n"
          ]
        }
      ]
    },
    {
      "cell_type": "code",
      "source": [
        "# 1-8\n",
        "\n",
        "id = input()\n",
        "print(id, '??!', sep = '')"
      ],
      "metadata": {
        "colab": {
          "base_uri": "https://localhost:8080/"
        },
        "id": "Ixew87pSUUU_",
        "outputId": "6f647149-3e65-43ee-b1f1-d1219f41b12e"
      },
      "execution_count": null,
      "outputs": [
        {
          "output_type": "stream",
          "name": "stdout",
          "text": [
            "joonas\n",
            "joonas??!\n"
          ]
        }
      ]
    },
    {
      "cell_type": "code",
      "source": [
        "# 1-9\n",
        "\n",
        "tai = int(input())\n",
        "year = tai - 543\n",
        "\n",
        "print(year)"
      ],
      "metadata": {
        "colab": {
          "base_uri": "https://localhost:8080/"
        },
        "id": "GHSPGDuJVHqX",
        "outputId": "cd13df4e-6f4c-4195-a3be-dd96ea76f3d5"
      },
      "execution_count": null,
      "outputs": [
        {
          "output_type": "stream",
          "name": "stdout",
          "text": [
            "2541\n",
            "1998\n"
          ]
        }
      ]
    },
    {
      "cell_type": "code",
      "source": [
        "# 1-10\n",
        "\n",
        "k, q, l, b, n, p = map(int, input().split())\n",
        "\n",
        "k1 = 1 - k\n",
        "q1 = 1 - q\n",
        "l2 = 2 - l\n",
        "b2 = 2 - b\n",
        "n2 = 2 - n\n",
        "p8 = 8 - p\n",
        "\n",
        "print(k1, q1, l2, b2, n2, p8)"
      ],
      "metadata": {
        "colab": {
          "base_uri": "https://localhost:8080/"
        },
        "id": "lsRaCe6oV9nb",
        "outputId": "7f2f372e-bcce-4991-a680-5c46140a0fa3"
      },
      "execution_count": null,
      "outputs": [
        {
          "output_type": "stream",
          "name": "stdout",
          "text": [
            "2 1 2 1 2 1\n",
            "-1 0 0 1 0 7\n"
          ]
        }
      ]
    },
    {
      "cell_type": "code",
      "source": [
        "# 1-11\n",
        "\n",
        "a, b, c = map(int, input().split())\n",
        "\n",
        "print((a+b)%c)\n",
        "print(((a%c)+(b%c))%c)\n",
        "print((a*b)%c)\n",
        "\n",
        "\n",
        "print(((a%c)*(b%c))%c)"
      ],
      "metadata": {
        "colab": {
          "base_uri": "https://localhost:8080/"
        },
        "id": "aQjyBbqHW9Xx",
        "outputId": "02cef7d2-1cd5-4458-e9ed-55921f62d4b0"
      },
      "execution_count": null,
      "outputs": [
        {
          "output_type": "stream",
          "name": "stdout",
          "text": [
            "5 8 4\n",
            "1\n",
            "1\n",
            "0\n",
            "0\n"
          ]
        }
      ]
    },
    {
      "cell_type": "code",
      "source": [
        "# 1-12\n",
        "\n",
        "a = int(input())\n",
        "b = int(input())\n",
        "\n",
        "b1 = b//100\n",
        "c = b//10\n",
        "b2 = c%10 \n",
        "b3 = b%10\n",
        "\n",
        "print(a*b3)\n",
        "print(a*b2)\n",
        "print(a*b1)\n",
        "print(a*b)"
      ],
      "metadata": {
        "colab": {
          "base_uri": "https://localhost:8080/"
        },
        "id": "ncsq0-nwXiPE",
        "outputId": "38e2d638-f851-4801-9c34-11de79e1930f"
      },
      "execution_count": null,
      "outputs": [
        {
          "output_type": "stream",
          "name": "stdout",
          "text": [
            "472\n",
            "385\n",
            "2360\n",
            "3776\n",
            "1416\n",
            "181720\n"
          ]
        }
      ]
    },
    {
      "cell_type": "markdown",
      "source": [
        "# 02"
      ],
      "metadata": {
        "id": "8NEZnmpYwQru"
      }
    },
    {
      "cell_type": "code",
      "source": [
        "# 2-1\n",
        "\n",
        "a, b = map(int, input().split())\n",
        "\n",
        "if a > b :\n",
        "  print('>')\n",
        "elif a < b :\n",
        "  print('<')\n",
        "else :\n",
        "  print('==')"
      ],
      "metadata": {
        "colab": {
          "base_uri": "https://localhost:8080/"
        },
        "id": "Snec8wEYe8VK",
        "outputId": "71bf71b7-3188-47de-e7d2-2a01f2f15f3c"
      },
      "execution_count": null,
      "outputs": [
        {
          "output_type": "stream",
          "name": "stdout",
          "text": [
            "5 5\n",
            "=\n"
          ]
        }
      ]
    },
    {
      "cell_type": "code",
      "source": [
        "# 2-2\n",
        "\n",
        "score = int(input())\n",
        "\n",
        "if score >= 90 :\n",
        "  print('A')\n",
        "else :\n",
        "  if score >= 80 :\n",
        "    print('B')\n",
        "  else :\n",
        "    if score >= 70 :\n",
        "      print('C')\n",
        "    else :\n",
        "      if score >= 60 :\n",
        "        print('D')\n",
        "      else :\n",
        "        print('F')"
      ],
      "metadata": {
        "colab": {
          "base_uri": "https://localhost:8080/"
        },
        "id": "dQIn_jPTfewq",
        "outputId": "a03f629a-762b-44c6-eb25-5e80bbea0b4c"
      },
      "execution_count": null,
      "outputs": [
        {
          "output_type": "stream",
          "name": "stdout",
          "text": [
            "59\n",
            "F\n"
          ]
        }
      ]
    },
    {
      "cell_type": "code",
      "source": [
        "# 2-3\n",
        "\n",
        "year = int(input())\n",
        "\n",
        "if year % 4 == 0 and year % 100 != 0 :\n",
        "  print('1')\n",
        "elif year % 400 == 0 :\n",
        "  print('1')\n",
        "else :\n",
        "  print('0')"
      ],
      "metadata": {
        "colab": {
          "base_uri": "https://localhost:8080/"
        },
        "id": "pXCOyzmaiNzb",
        "outputId": "72c64687-7a01-48e3-daa6-34d41264f8be"
      },
      "execution_count": null,
      "outputs": [
        {
          "output_type": "stream",
          "name": "stdout",
          "text": [
            "2000\n",
            "1\n"
          ]
        }
      ]
    },
    {
      "cell_type": "code",
      "source": [
        "# 2-4\n",
        "\n",
        "x = int(input())\n",
        "y = int(input())\n",
        "\n",
        "if x > 0 and y > 0 :\n",
        "  print('1')\n",
        "elif x < 0 and y > 0 :\n",
        "  print('2')\n",
        "elif x < 0 and y < 0 :\n",
        "  print('3')\n",
        "elif x > 0 and y < 0 :\n",
        "  print ('4')\n",
        "\n",
        "# 이외의 경우는 따로 출력하지 않음"
      ],
      "metadata": {
        "colab": {
          "base_uri": "https://localhost:8080/"
        },
        "id": "HK3m7ul2jFrC",
        "outputId": "f21f31bc-75e6-4d58-d5fa-4a4ce1c5b765"
      },
      "execution_count": null,
      "outputs": [
        {
          "name": "stdout",
          "output_type": "stream",
          "text": [
            "0\n",
            "12\n"
          ]
        }
      ]
    },
    {
      "cell_type": "code",
      "source": [
        "# 2-5\n",
        "\n",
        "h, m = map(int, input().split())\n",
        "m1 = m-45\n",
        "\n",
        "if m1 >= 0 :\n",
        "  print(h, m1)\n",
        "else :\n",
        "  m2 = 60+m1\n",
        "  if h == 0 :\n",
        "    print(23, m2)\n",
        "  else :\n",
        "    h1 = h-1\n",
        "    print (h1, m2)"
      ],
      "metadata": {
        "colab": {
          "base_uri": "https://localhost:8080/"
        },
        "id": "QjcnEB8VkKR7",
        "outputId": "67276cd9-2feb-4da4-9052-f328e6c88266"
      },
      "execution_count": null,
      "outputs": [
        {
          "output_type": "stream",
          "name": "stdout",
          "text": [
            "23 40\n",
            "22 55\n"
          ]
        }
      ]
    },
    {
      "cell_type": "code",
      "source": [
        "# 2-6\n",
        "\n",
        "h, m = map(int, input().split())\n",
        "t = int(input())\n",
        "\n",
        "m1 = m+t\n",
        "m2 = m1%60\n",
        "\n",
        "h1 = m1//60\n",
        "h2 = h+h1\n",
        "h3 = h2-24\n",
        "\n",
        "if h3 < 0 :\n",
        "  print(h2, m2)\n",
        "else : \n",
        "  print(h3, m2)"
      ],
      "metadata": {
        "colab": {
          "base_uri": "https://localhost:8080/"
        },
        "id": "mdjxbeP7lvne",
        "outputId": "e449578a-bd92-4dfb-e83a-2d6741948fbc"
      },
      "execution_count": null,
      "outputs": [
        {
          "output_type": "stream",
          "name": "stdout",
          "text": [
            "23 48\n",
            "25\n",
            "0 13\n"
          ]
        }
      ]
    },
    {
      "cell_type": "code",
      "source": [
        "# 2-7\n",
        "\n",
        "a, b, c = map(int, input().split())\n",
        "\n",
        "a1 = a-b\n",
        "b1 = b-c\n",
        "c1 = c-a\n",
        "\n",
        "if a1 == 0 :\n",
        "  if b1 == 0 :\n",
        "    print(10000+a*1000)\n",
        "  else :\n",
        "    print(1000+a*100)\n",
        "elif b1 == 0 :\n",
        "  print(1000+b*100)\n",
        "elif c1 == 0 :\n",
        "  print(1000+c*100)\n",
        "else :\n",
        "  d = (a if a > b else b) if ((a if a > b else b) > c) else C\n",
        "  print(d*100) "
      ],
      "metadata": {
        "colab": {
          "base_uri": "https://localhost:8080/"
        },
        "id": "YWrOGS0ruZE-",
        "outputId": "335b219a-df42-4cfb-e640-27336c6313da"
      },
      "execution_count": null,
      "outputs": [
        {
          "output_type": "stream",
          "name": "stdout",
          "text": [
            "6 2 5\n",
            "600\n"
          ]
        }
      ]
    },
    {
      "cell_type": "code",
      "source": [
        "# 2-8\n",
        "\n",
        "a, b, c = map(int, input().split())\n",
        "\n",
        "a1 = a-b\n",
        "b1 = b-c\n",
        "c1 = c-a\n",
        "\n",
        "if a1 == 0 :\n",
        "  if b1 == 0 :\n",
        "    print(10000+a*1000)\n",
        "  else :\n",
        "    print(1000+a*100)\n",
        "elif b1 == 0 :\n",
        "  print(1000+b*100)\n",
        "elif c1 == 0 :\n",
        "  print(1000+c*100)\n",
        "else :\n",
        "  d = (a if a > b else b) if ((a if a > b else b) > c) else C\n",
        "  print(d*100)\n",
        "# 런타임 에러"
      ],
      "metadata": {
        "id": "iXIgk0HA10xm"
      },
      "execution_count": null,
      "outputs": []
    },
    {
      "cell_type": "code",
      "source": [
        "# 2-8\n",
        "\n",
        "a, b, c = map(int, input().split())\n",
        "\n",
        "a1 = a-b\n",
        "b1 = b-c\n",
        "c1 = c-a\n",
        "\n",
        "if a1 == 0 :\n",
        "  if b1 == 0 :\n",
        "    print(10000+a*1000)\n",
        "  else :\n",
        "    print(1000+a*100)\n",
        "elif b1 == 0 :\n",
        "  print(1000+b*100)\n",
        "elif c1 == 0 :\n",
        "  print(1000+c*100)\n",
        "else :\n",
        "  x = a if a > b else b\n",
        "  y = x if x > c else c\n",
        "  print(y*100)"
      ],
      "metadata": {
        "colab": {
          "base_uri": "https://localhost:8080/"
        },
        "id": "NGEun5JeveCj",
        "outputId": "f4bbe9c6-9d03-450f-cee4-95593b7e3bfa"
      },
      "execution_count": 2,
      "outputs": [
        {
          "output_type": "stream",
          "name": "stdout",
          "text": [
            "6 2 5\n",
            "600\n"
          ]
        }
      ]
    }
  ]
}